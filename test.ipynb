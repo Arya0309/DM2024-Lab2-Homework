{
 "cells": [
  {
   "cell_type": "code",
   "execution_count": 1,
   "metadata": {},
   "outputs": [],
   "source": [
    "import pandas as pd\n",
    "import os\n",
    "\n",
    "file_path =\"dataset\"\n",
    "df_train = pd.read_csv(os.path.join(file_path, \"train.csv\"))"
   ]
  },
  {
   "cell_type": "code",
   "execution_count": 30,
   "metadata": {},
   "outputs": [],
   "source": [
    "i=0"
   ]
  },
  {
   "cell_type": "code",
   "execution_count": 49,
   "metadata": {},
   "outputs": [
    {
     "name": "stdout",
     "output_type": "stream",
     "text": [
      "90                       Closed Buy 2.3 Lots EURUSD 1.15162 for +10.6 pips, total for today +10.6 pips <LH> <LH> <LH> <LH> <LH>\n",
      "91                                                                         I woke uo to so much joon content i am truly <LH> 😌🙏\n",
      "92                                        Dear Love,  Doors Of My Toilet Will Always Open For You ❤  <LH> by #ToiletEkPremKatha\n",
      "93                                                 When the conservatives went past at the Pride Parade and no one cheered <LH>\n",
      "94    subject to whomever it concerns thanks to each and everyone whoever wished me  <LH> #choose_love #ninga_illama_naillaye 😉\n",
      "Name: text, dtype: object\n"
     ]
    }
   ],
   "source": [
    "import pandas as pd\n",
    "\n",
    "pd.set_option('display.max_colwidth', None)\n",
    "print(df_train[\"text\"][i:i+5])\n",
    "i+=5"
   ]
  },
  {
   "cell_type": "code",
   "execution_count": 29,
   "metadata": {},
   "outputs": [
    {
     "name": "stdout",
     "output_type": "stream",
     "text": [
      "         score           index            crawldate    type        hashtags  \\\n",
      "8746       883  hashtag_tweets  2015-10-18 22:18:04  tweets              []   \n",
      "25942      869  hashtag_tweets  2015-02-03 21:21:03  tweets              []   \n",
      "26587      796  hashtag_tweets  2016-12-23 04:34:51  tweets              []   \n",
      "28326       29  hashtag_tweets  2017-05-01 11:45:24  tweets              []   \n",
      "34794      407  hashtag_tweets  2017-12-15 11:26:02  tweets              []   \n",
      "...        ...             ...                  ...     ...             ...   \n",
      "1162103     68  hashtag_tweets  2016-04-17 20:56:44  tweets              []   \n",
      "1162411    676  hashtag_tweets  2016-04-23 13:01:23  tweets              []   \n",
      "1162894    876  hashtag_tweets  2016-01-18 19:54:46  tweets        ['Teen']   \n",
      "1163214    558  hashtag_tweets  2015-02-26 09:11:32  tweets  ['Werewolves']   \n",
      "1164403    291  hashtag_tweets  2017-10-01 11:01:40  tweets              []   \n",
      "\n",
      "         tweet_id  \\\n",
      "8746     0x34e4da   \n",
      "25942    0x2349fe   \n",
      "26587    0x2dc11d   \n",
      "28326    0x20d57a   \n",
      "34794    0x3823e5   \n",
      "...           ...   \n",
      "1162103  0x24185e   \n",
      "1162411  0x353e66   \n",
      "1162894  0x229cd7   \n",
      "1163214  0x1ce0fd   \n",
      "1164403  0x3897d1   \n",
      "\n",
      "                                                                                                         text  \\\n",
      "8746                                                                           That`s just superb!  <LH> <LH>   \n",
      "25942                                                                                               <LH> life   \n",
      "26587                                                                                     It's a New day <LH>   \n",
      "28326                                                              Neopone CALLS OUT PrankInvasion |  <LH>  😰   \n",
      "34794                                                                                               <LH> life   \n",
      "...                                                                                                       ...   \n",
      "1162103                                                                please father protect our cowboys <LH>   \n",
      "1162411                                                                                             WHAT <LH>   \n",
      "1162894  Did he realise that he'd totally stuffed up my plans for escape. <LH> #Teen <LH> <LH> <LH> <LH> <LH>   \n",
      "1163214          Some of her abilities are clearly a result of darkness. #Werewolves <LH> <LH> <LH> <LH> <LH>   \n",
      "1164403                                                                                             <LH> life   \n",
      "\n",
      "        identification       emotion  emotion_id  \n",
      "8746             train           joy           3  \n",
      "25942            train       sadness           1  \n",
      "26587            train         trust           5  \n",
      "28326            train      surprise           7  \n",
      "34794            train      surprise           7  \n",
      "...                ...           ...         ...  \n",
      "1162103          train  anticipation           0  \n",
      "1162411          train      surprise           7  \n",
      "1162894          train           joy           3  \n",
      "1163214          train           joy           3  \n",
      "1164403          train           joy           3  \n",
      "\n",
      "[2623 rows x 10 columns]\n"
     ]
    }
   ],
   "source": [
    "duplicate = df_train[df_train.duplicated(subset=['text'])]\n",
    "print(duplicate)"
   ]
  }
 ],
 "metadata": {
  "kernelspec": {
   "display_name": "Python 3",
   "language": "python",
   "name": "python3"
  },
  "language_info": {
   "codemirror_mode": {
    "name": "ipython",
    "version": 3
   },
   "file_extension": ".py",
   "mimetype": "text/x-python",
   "name": "python",
   "nbconvert_exporter": "python",
   "pygments_lexer": "ipython3",
   "version": "3.13.0"
  }
 },
 "nbformat": 4,
 "nbformat_minor": 2
}
